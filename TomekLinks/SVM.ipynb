{
 "cells": [
  {
   "cell_type": "code",
   "execution_count": 1,
   "metadata": {},
   "outputs": [
    {
     "name": "stdout",
     "output_type": "stream",
     "text": [
      "Class distribution before random oversampling:\n",
      "0    227451\n",
      "1       394\n",
      "Name: Class, dtype: int64\n",
      "\n",
      "Class distribution after random oversampling:\n",
      "0    227451\n",
      "1    227451\n",
      "Name: Class, dtype: int64\n"
     ]
    },
    {
     "data": {
      "image/png": "[encoded data removed]",
      "text/plain": [
       "<Figure size 576x432 with 1 Axes>"
      ]
     },
     "metadata": {
      "needs_background": "light"
     },
     "output_type": "display_data"
    }
   ],
   "source": [
    "import pandas as pd\n",
    "from sklearn.model_selection import train_test_split\n",
    "from sklearn.svm import SVC\n",
    "from sklearn.metrics import average_precision_score, precision_recall_curve, auc\n",
    "from imblearn.under_sampling import TomekLinks\n",
    "import matplotlib.pyplot as plt\n",
    "\n",
    "\n",
    "# 加载数据\n",
    "data = pd.read_csv(\"../Data/creditcard.csv\")\n",
    "\n",
    "# 划分数据集\n",
    "X = data.drop(\"Class\", axis=1)  # 特征\n",
    "y = data[\"Class\"]  # 目标变量\n",
    "\n",
    "# 划分数据集\n",
    "X_train, X_test, y_train, y_test = train_test_split(X, y, test_size=0.2, random_state=42)\n",
    "\n",
    "# 进行随机过采样\n",
    "ros = TomekLinks(sampling_strategy='majority')\n",
    "X_resampled, y_resampled = ros.fit_resample(X_train, y_train)\n",
    "\n",
    "# 输出每个类别的样本数\n",
    "print(\"Class distribution before TomekLinks:\")\n",
    "print(y_train.value_counts())\n",
    "\n",
    "print(\"\\nClass distribution after TomekLinks:\")\n",
    "print(pd.Series(y_resampled).value_counts())\n",
    "\n",
    "# 可视化类别分布\n",
    "plt.figure(figsize=(8, 6))\n",
    "plt.bar(pd.Series(y_resampled).value_counts().index, pd.Series(y_resampled).value_counts().values, color=['blue', 'orange'])\n",
    "plt.title('Class Distribution after TomekLinks')\n",
    "plt.xlabel('Class')\n",
    "plt.ylabel('Count')\n",
    "plt.xticks([0, 1], ['Non-Fraud (0)', 'Fraud (1)'])\n",
    "plt.show()\n",
    "\n",
    "\n",
    "# 选择支持向量机分类器\n",
    "svm_classifier = SVC(kernel='linear', random_state=42)  # 选择线性核，你也可以尝试其他核函数\n",
    "\n",
    "# 训练分类器\n",
    "svm_classifier.fit(X_resampled, y_resampled)\n",
    "\n",
    "# 预测概率\n",
    "y_proba_svm = svm_classifier.decision_function(X_test)\n",
    "\n",
    "# 计算AUPRC\n",
    "precision, recall, _ = precision_recall_curve(y_test, y_proba_svm)\n",
    "auprc = auc(recall, precision)\n",
    "\n",
    "# 打印AUPRC\n",
    "print(\"AUPRC(SVM with RandomOverSampling):\", auprc)\n",
    "\n",
    "# 绘制PR曲线\n",
    "plt.figure(figsize=(8, 6))\n",
    "plt.plot(recall, precision, label=f'AUPRC(SVM with RandomOverSampling) = {auprc:.2f}')\n",
    "plt.xlabel('Recall')\n",
    "plt.ylabel('Precision')\n",
    "plt.title('Precision-Recall Curve(SVM with RandomOverSampling)')\n",
    "plt.legend()\n",
    "plt.show()\n"
   ]
  }
 ],
 "metadata": {
  "kernelspec": {
   "display_name": "base",
   "language": "python",
   "name": "python3"
  },
  "language_info": {
   "codemirror_mode": {
    "name": "ipython",
    "version": 3
   },
   "file_extension": ".py",
   "mimetype": "text/x-python",
   "name": "python",
   "nbconvert_exporter": "python",
   "pygments_lexer": "ipython3",
   "version": "3.9.12"
  }
 },
 "nbformat": 4,
 "nbformat_minor": 2
}
